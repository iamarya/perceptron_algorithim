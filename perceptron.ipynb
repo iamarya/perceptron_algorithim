{
 "cells": [
  {
   "cell_type": "markdown",
   "metadata": {},
   "source": [
    "# Perceptron"
   ]
  },
  {
   "cell_type": "code",
   "execution_count": 3,
   "metadata": {},
   "outputs": [],
   "source": [
    "# This line is to ensure that the figure is generated inside the Jupyter Notebook Environment\n",
    "%matplotlib inline\n",
    "\n",
    "# Importing all the necessary libraries \n",
    "import numpy as np\n",
    "import matplotlib.pyplot as plt"
   ]
  },
  {
   "cell_type": "markdown",
   "metadata": {},
   "source": [
    "Implement a linear classifier using the **Perceptron algorithm**. The perceptron algorithm computes a linear classifier using a stochastic error correcting learning algorithm. Two-class problem, distinct means, equal covariance matrices."
   ]
  },
  {
   "cell_type": "code",
   "execution_count": 2,
   "metadata": {},
   "outputs": [
    {
     "data": {
      "text/plain": [
       "Text(0.5, 1.0, 'Data Plot')"
      ]
     },
     "execution_count": 2,
     "metadata": {},
     "output_type": "execute_result"
    },
    {
     "data": {
      "image/png": "[encoded data removed]",
      "text/plain": [
       "<Figure size 432x288 with 1 Axes>"
      ]
     },
     "metadata": {
      "needs_background": "light"
     },
     "output_type": "display_data"
    }
   ],
   "source": [
    "NumDataPerClass=200\n",
    "\n",
    "# Two Class Problem, Distinct Means, Equal Covariances\n",
    "m1=[[0,5]]\n",
    "m2=[[5,0]]\n",
    "C=[[2,1],[1,2]]\n",
    "\n",
    "#Set Up the Data\n",
    "A=np.linalg.cholesky(C)\n",
    "X1=np.random.randn(NumDataPerClass,2)\n",
    "Y1=X1@A+m1\n",
    "X2=np.random.randn(NumDataPerClass,2)\n",
    "Y2=X2@A+m2\n",
    "\n",
    "# Plotting the Data Labels\n",
    "plt.scatter(Y1[:,0], Y1[:, 1], s = 3, c = 'm')\n",
    "#plt.scatter(X1[:, 0], X1[:, 1], s = 3, c = 'c')\n",
    "plt.scatter(Y2[:,0], Y2[:, 1], s = 3, c = 'm')\n",
    "#plt.scatter(X2[:, 0], X2[:, 1], s = 3, c = 'c')\n",
    "plt.grid(True)\n",
    "plt.title('Data Plot')"
   ]
  },
  {
   "cell_type": "markdown",
   "metadata": {},
   "source": [
    "The distribution of your data should look like what is shown in Fig. 1. Note the data are linearly separable (i.e. a linear class boundary will classify the data correctly).\n",
    "We will now train a perceptron algorithm to classify this data. A perceptron is a linear classifier whose training is done by error correction. If the weights of the perceptron are denoted a and the input features are in vector y, a perceptron decision function assigns the data to one class or the other depending on whether aT y<>0.\n"
   ]
  },
  {
   "cell_type": "markdown",
   "metadata": {},
   "source": [
    "### 1: For simplicity, I have assumed the following (some of which you are free to change and study the effect):\n",
    " + There is an equal number of data NumDataPerClass in each class\n",
    " + We use an equal partition of the data into training and test sets, taken at random.\n"
   ]
  },
  {
   "cell_type": "markdown",
   "metadata": {},
   "source": [
    "### 2: Concatenate data from two classes into one array"
   ]
  },
  {
   "cell_type": "code",
   "execution_count": 3,
   "metadata": {},
   "outputs": [],
   "source": [
    "Y = np.concatenate((Y1, Y2))"
   ]
  },
  {
   "cell_type": "markdown",
   "metadata": {},
   "source": [
    "### 3: Setting up targets (labels): we set +1 and —1 as labels to indicate the two classes."
   ]
  },
  {
   "cell_type": "code",
   "execution_count": 4,
   "metadata": {},
   "outputs": [],
   "source": [
    "labelPos = np.ones(NumDataPerClass)\n",
    "labelNeg = -1.0*np.ones(NumDataPerClass) \n",
    "f = np.concatenate((labelPos, labelNeg))"
   ]
  },
  {
   "cell_type": "markdown",
   "metadata": {},
   "source": [
    "### 4: Partitioning the data into training and test sets"
   ]
  },
  {
   "cell_type": "code",
   "execution_count": 17,
   "metadata": {},
   "outputs": [
    {
     "name": "stdout",
     "output_type": "stream",
     "text": [
      "(200, 2) (200,) (200, 2) (200,)\n"
     ]
    }
   ],
   "source": [
    "# Generate random indices and order the data\n",
    "rIndex = np.random.permutation(2*NumDataPerClass) \n",
    "Yr = Y[rIndex,]\n",
    "fr = f[rIndex]\n",
    "\n",
    "# Training and test sets (half half)\n",
    "Y_train = Yr[0:NumDataPerClass]\n",
    "f_train = fr[0:NumDataPerClass]\n",
    "Y_test = Yr[NumDataPerClass:2*NumDataPerClass] \n",
    "f_test = fr[NumDataPerClass:2*NumDataPerClass] \n",
    "print(Y_train.shape, f_train.shape, Y_test.shape, f_test.shape)\n",
    "Ntrain = NumDataPerClass; \n",
    "Ntest = NumDataPerClass;\n"
   ]
  },
  {
   "cell_type": "markdown",
   "metadata": {},
   "source": [
    "### 5: Calculating the percentage of correctly classified examples"
   ]
  },
  {
   "cell_type": "code",
   "execution_count": 12,
   "metadata": {},
   "outputs": [],
   "source": [
    "def PercentCorrect(Inputs, targets, weights):\n",
    "    N = len(targets)\n",
    "    nCorrect = 0\n",
    "    for n in range(N):\n",
    "        Onelnput = Inputs[n,:]\n",
    "        if (targets[n] * np.dot(Onelnput, weights) > 0):\n",
    "            nCorrect +=1\n",
    "    return 100*nCorrect/N"
   ]
  },
  {
   "cell_type": "markdown",
   "metadata": {},
   "source": [
    "### 6: Iterative error correcting learning"
   ]
  },
  {
   "cell_type": "code",
   "execution_count": 21,
   "metadata": {},
   "outputs": [
    {
     "name": "stdout",
     "output_type": "stream",
     "text": [
      "[1.25769427 0.24424451]\n",
      "Initial Percentage Correct:  32.0\n",
      "Percentage Correct After Training:  99.5 98.5\n"
     ]
    }
   ],
   "source": [
    "# Random initialization of weights\n",
    "a = np.random.randn(2) \n",
    "print(a)\n",
    "# What is the performance with the initial random weights?\n",
    "print('Initial Percentage Correct: ', PercentCorrect(Y_train, f_train, a))\n",
    "# Number of iterations and Learning rate\n",
    "MaxIter = 400 \n",
    "alpha = 0.01\n",
    "# Space for plots\n",
    "P_train = np.zeros(MaxIter) \n",
    "P_test = np.zeros(MaxIter)\n",
    "# Main Loop\n",
    "for iter in range(MaxIter):\n",
    "    # Select a data item at random\n",
    "    r = np.floor(np.random.rand()*Ntrain).astype(int)\n",
    "    y = Y_train[r,:]\n",
    "    # If it is misclassified, update weights\n",
    "    if (f_train[r] * np.dot(y, a) < 0): \n",
    "        a += alpha * f_train[r] * y\n",
    "    # Evaluate training and test performances for plotting\n",
    "    P_train[iter] = PercentCorrect(Y_train, f_train, a); \n",
    "    P_test[iter] = PercentCorrect(Y_test, f_test, a);\n",
    "print('Percentage Correct After Training: ', PercentCorrect(Y_train,f_train, a), PercentCorrect(Y_test,f_test, a))\n"
   ]
  },
  {
   "cell_type": "markdown",
   "metadata": {},
   "source": [
    "### 7: Plot learning curves"
   ]
  },
  {
   "cell_type": "code",
   "execution_count": 22,
   "metadata": {},
   "outputs": [
    {
     "data": {
      "text/plain": [
       "<matplotlib.legend.Legend at 0x13c0a47cbe0>"
      ]
     },
     "execution_count": 22,
     "metadata": {},
     "output_type": "execute_result"
    },
    {
     "data": {
      "image/png": "[encoded data removed]",
      "text/plain": [
       "<Figure size 432x288 with 1 Axes>"
      ]
     },
     "metadata": {
      "needs_background": "light"
     },
     "output_type": "display_data"
    }
   ],
   "source": [
    "plt.plot(range(MaxIter), P_train, 'b', range(MaxIter), P_test, 'r') \n",
    "plt.grid(True)\n",
    "plt.gca().legend(('Training Set','Test Set'))\n"
   ]
  },
  {
   "cell_type": "markdown",
   "metadata": {},
   "source": [
    "### 8: The scikitlearn package is an excellent source of machine learning algorithms in Python. Compare the performance of your perceptron algorithm on the two-class Gaussian dataset with that of the perceptron tool in the scikitlearn package. Here is a snippet of code to help you get started:"
   ]
  },
  {
   "cell_type": "code",
   "execution_count": 25,
   "metadata": {},
   "outputs": [
    {
     "name": "stdout",
     "output_type": "stream",
     "text": [
      "1.0\n"
     ]
    }
   ],
   "source": [
    "from sklearn.linear_model import Perceptron \n",
    "from sklearn.metrics import accuracy_score \n",
    "model = Perceptron()\n",
    "model.fit(Y_train, f_train)\n",
    "fh_test = model.predict(Y_test)\n",
    "print(accuracy_score(fh_test, f_test))\n"
   ]
  },
  {
   "cell_type": "markdown",
   "metadata": {},
   "source": [
    "### 9: Consider the problem with means at m1 = [[2.5, 2.5]], m2 = [[10.0, 10.0]] with the covariance matrices equal and the same as before. Does the perceptron as implemented solve this problem? If not what modification is needed to help solve this problem? \n"
   ]
  },
  {
   "cell_type": "code",
   "execution_count": 26,
   "metadata": {},
   "outputs": [
    {
     "data": {
      "text/plain": [
       "Text(0.5, 1.0, 'New Data Plot')"
      ]
     },
     "execution_count": 26,
     "metadata": {},
     "output_type": "execute_result"
    },
    {
     "data": {
      "image/png": "[encoded data removed]",
      "text/plain": [
       "<Figure size 432x288 with 1 Axes>"
      ]
     },
     "metadata": {
      "needs_background": "light"
     },
     "output_type": "display_data"
    }
   ],
   "source": [
    "# New Distinct Means and Equal Covariance\n",
    "m1=[[2.5,2.5]]\n",
    "m2=[[10.0,10.0]]\n",
    "C=[[2,1],[1,2]]\n",
    "\n",
    "#Set Up the New Data\n",
    "A2=np.linalg.cholesky(C)\n",
    "X3=np.random.randn(NumDataPerClass,2)\n",
    "Y3=X3@A2+m1\n",
    "X4=np.random.randn(NumDataPerClass,2)\n",
    "Y4=X4@A2+m2\n",
    "\n",
    "# Plot the New Data\n",
    "plt.scatter(Y3[:,0], Y3[:, 1], s = 3, c = 'm')\n",
    "#plt.scatter(X1[:, 0], X1[:, 1], s = 3, c = 'c')\n",
    "plt.scatter(Y4[:,0], Y4[:, 1], s = 3, c = 'm')\n",
    "#plt.scatter(X2[:, 0], X2[:, 1], s = 3, c = 'c')\n",
    "plt.grid(True)\n",
    "plt.title('New Data Plot')\n"
   ]
  },
  {
   "cell_type": "code",
   "execution_count": 29,
   "metadata": {},
   "outputs": [
    {
     "name": "stdout",
     "output_type": "stream",
     "text": [
      "(200, 2) (200,) (200, 2) (200,)\n"
     ]
    }
   ],
   "source": [
    "# Concatenate the Data Labels\n",
    "YY = np.concatenate((Y3, Y4))\n",
    "\n",
    "# Setting up Target Labels of +1 and -1\n",
    "labelPos = np.ones(NumDataPerClass)\n",
    "labelNeg = -1.0*np.ones(NumDataPerClass) \n",
    "f = np.concatenate((labelPos, labelNeg))\n",
    "\n",
    "# Generate random indices and order the data\n",
    "rIndex = np.random.permutation(2*NumDataPerClass) \n",
    "Yr = YY[rIndex,]\n",
    "fr = f[rIndex]\n",
    "\n",
    "# Training and test sets (half half)\n",
    "Y_train = Yr[0:NumDataPerClass]\n",
    "f_train = fr[0:NumDataPerClass]\n",
    "Y_test = Yr[NumDataPerClass:2*NumDataPerClass] \n",
    "f_test = fr[NumDataPerClass:2*NumDataPerClass] \n",
    "print(Y_train.shape, f_train.shape, Y_test.shape, f_test.shape)\n",
    "Ntrain = NumDataPerClass; \n",
    "Ntest = NumDataPerClass;\n"
   ]
  },
  {
   "cell_type": "code",
   "execution_count": 31,
   "metadata": {},
   "outputs": [
    {
     "name": "stdout",
     "output_type": "stream",
     "text": [
      "[-0.29986199 -0.20061448]\n",
      "Initial Percentage Correct:  49.0\n",
      "Percentage Correct After Training:  45.5 40.5\n"
     ]
    },
    {
     "data": {
      "text/plain": [
       "<matplotlib.legend.Legend at 0x13c0a698208>"
      ]
     },
     "execution_count": 31,
     "metadata": {},
     "output_type": "execute_result"
    },
    {
     "data": {
      "image/png": "[encoded data removed]",
      "text/plain": [
       "<Figure size 432x288 with 1 Axes>"
      ]
     },
     "metadata": {
      "needs_background": "light"
     },
     "output_type": "display_data"
    }
   ],
   "source": [
    "# Itertive Error Correcting Learning\n",
    "# Random initialization of weights\n",
    "a = np.random.randn(2) \n",
    "print(a)\n",
    "# What is the performance with the initial random weights?\n",
    "print('Initial Percentage Correct: ', PercentCorrect(Y_train, f_train, a))\n",
    "# Number of iterations and Learning rate\n",
    "MaxIter = 400 \n",
    "alpha = 0.01\n",
    "# Space for plots\n",
    "P_train = np.zeros(MaxIter) \n",
    "P_test = np.zeros(MaxIter)\n",
    "# Main Loop\n",
    "for iter in range(MaxIter):\n",
    "    # Select a data item at random\n",
    "    r = np.floor(np.random.rand()*Ntrain).astype(int)\n",
    "    y = Y_train[r,:]\n",
    "    # If it is misclassified, update weights\n",
    "    if (f_train[r] * np.dot(y, a) < 0): \n",
    "        a += alpha * f_train[r] * y\n",
    "    # Evaluate training and test performances for plotting\n",
    "    P_train[iter] = PercentCorrect(Y_train, f_train, a); \n",
    "    P_test[iter] = PercentCorrect(Y_test, f_test, a);\n",
    "print('Percentage Correct After Training: ', PercentCorrect(Y_train,f_train, a), PercentCorrect(Y_test,f_test, a))\n",
    "\n",
    "# Plotting the New Learning Curves\n",
    "plt.plot(range(MaxIter), P_train, 'b', range(MaxIter), P_test, 'r') \n",
    "plt.grid(True)\n",
    "plt.gca().legend(('Training Set','Test Set'))"
   ]
  },
  {
   "cell_type": "markdown",
   "metadata": {},
   "source": [
    "As, we can see above in the graph, that, the with the new means and equal covariances, our perceptron algorithm works poorly and it gives a very less accurate results for the classification of our data points. So, now we will be making some improvements to some of the parameters to make our classifier work properly on the new parameters we have. "
   ]
  },
  {
   "cell_type": "code",
   "execution_count": 32,
   "metadata": {},
   "outputs": [
    {
     "name": "stdout",
     "output_type": "stream",
     "text": [
      "(200, 3) (200,) (200, 3) (200,)\n"
     ]
    }
   ],
   "source": [
    "# New Modification\n",
    "o = np.ones((2*NumDataPerClass, 1)) \n",
    "YN = np.append(YY, o, axis=1)\n",
    "\n",
    "# Setting up Target Labels of +1 and -1\n",
    "labelPos = np.ones(NumDataPerClass)\n",
    "labelNeg = -1.0*np.ones(NumDataPerClass) \n",
    "f = np.concatenate((labelPos, labelNeg))\n",
    "\n",
    "# Generate random indices and order the data\n",
    "rIndex = np.random.permutation(2*NumDataPerClass) \n",
    "Yr = YN[rIndex,]\n",
    "fr = f[rIndex]\n",
    "\n",
    "# Training and test sets (half half)\n",
    "Y_train = Yr[0:NumDataPerClass]\n",
    "f_train = fr[0:NumDataPerClass]\n",
    "Y_test = Yr[NumDataPerClass:2*NumDataPerClass] \n",
    "f_test = fr[NumDataPerClass:2*NumDataPerClass] \n",
    "print(Y_train.shape, f_train.shape, Y_test.shape, f_test.shape)\n",
    "Ntrain = NumDataPerClass; \n",
    "Ntest = NumDataPerClass;\n",
    "\n"
   ]
  },
  {
   "cell_type": "code",
   "execution_count": 37,
   "metadata": {},
   "outputs": [
    {
     "name": "stdout",
     "output_type": "stream",
     "text": [
      "[ 0.02225124 -0.73458871 -0.57577355]\n",
      "Initial Percentage Correct:  48.0\n",
      "Percentage Correct After Training:  99.5 98.5\n"
     ]
    },
    {
     "data": {
      "text/plain": [
       "<matplotlib.legend.Legend at 0x13c0a8bf240>"
      ]
     },
     "execution_count": 37,
     "metadata": {},
     "output_type": "execute_result"
    },
    {
     "data": {
      "image/png": "[encoded data removed]",
      "text/plain": [
       "<Figure size 432x288 with 1 Axes>"
      ]
     },
     "metadata": {
      "needs_background": "light"
     },
     "output_type": "display_data"
    }
   ],
   "source": [
    "# Itertive Error Correcting Learning\n",
    "# Random initialization of weights\n",
    "a = np.random.randn(3) # New Modification\n",
    "print(a)\n",
    "# What is the performance with the initial random weights?\n",
    "print('Initial Percentage Correct: ', PercentCorrect(Y_train, f_train, a))\n",
    "# Number of iterations and Learning rate\n",
    "MaxIter = 400 \n",
    "alpha = 0.01\n",
    "# Space for plots\n",
    "P_train = np.zeros(MaxIter) \n",
    "P_test = np.zeros(MaxIter)\n",
    "# Main Loop\n",
    "for iter in range(MaxIter):\n",
    "    # Select a data item at random\n",
    "    r = np.floor(np.random.rand()*Ntrain).astype(int)\n",
    "    y = Y_train[r,:] #random row from y_train\n",
    "    # If it is misclassified, update weights\n",
    "    if (f_train[r] * np.dot(y, a) < 0): \n",
    "        a += alpha * f_train[r] * y\n",
    "    # Evaluate training and test performances for plotting\n",
    "    P_train[iter] = PercentCorrect(Y_train, f_train, a); \n",
    "    P_test[iter] = PercentCorrect(Y_test, f_test, a);\n",
    "print('Percentage Correct After Training: ', PercentCorrect(Y_train,f_train, a), PercentCorrect(Y_test,f_test, a))\n",
    "\n",
    "# Plotting the New Learning Curves\n",
    "plt.plot(range(MaxIter), P_train, 'b', range(MaxIter), P_test, 'r') \n",
    "plt.grid(True)\n",
    "plt.gca().legend(('Training Set','Test Set'))"
   ]
  },
  {
   "cell_type": "markdown",
   "metadata": {},
   "source": [
    "After applying the new modifications to some of the parameters, we can now clearly observe that our perceptron performace has improved drastically. Earlier, in the test set, the accuracy was 48%, and after the required modification, we can see that the test set accuracy is 90%. "
   ]
  },
  {
   "cell_type": "markdown",
   "metadata": {},
   "source": [
    "### 10: Download a two class classification problem from the UCI machine Learning Repository of benchmark datasets https://archive.ics.uci.edu/ml/index.php and classify using your own perceptron algorithm. How does the performance compare to any quoted results on this dataset by other researchers? You may need more python tools to read and manipulate downloaded data (e.g. Pandas)."
   ]
  },
  {
   "cell_type": "code",
   "execution_count": 1,
   "metadata": {},
   "outputs": [],
   "source": [
    "from numpy import genfromtxt\n",
    "my_data = genfromtxt('C:\\\\Users\\\\aryam\\\\Desktop\\\\soton\\\\ml\\\\lab\\\\LAB2\\\\ds3\\\\iris.data', delimiter=',')"
   ]
  },
  {
   "cell_type": "code",
   "execution_count": 9,
   "metadata": {},
   "outputs": [
    {
     "data": {
      "text/plain": [
       "Text(0.5, 1.0, 'Iris Data')"
      ]
     },
     "execution_count": 9,
     "metadata": {},
     "output_type": "execute_result"
    },
    {
     "data": {
      "image/png": "[encoded data removed]",
      "text/plain": [
       "<Figure size 432x288 with 1 Axes>"
      ]
     },
     "metadata": {
      "needs_background": "light"
     },
     "output_type": "display_data"
    }
   ],
   "source": [
    "Y3=my_data[0:50,0:4]\n",
    "Y4=my_data[50:100,0:4]\n",
    "\n",
    "# Plot the New Data\n",
    "plt.scatter(Y3[:,0], Y3[:, 2], s = 3, c = 'c')\n",
    "#plt.scatter(X1[:, 0], X1[:, 1], s = 3, c = 'c')\n",
    "plt.scatter(Y4[:,0], Y4[:, 2], s = 3, c = 'm')\n",
    "#plt.scatter(X2[:, 0], X2[:, 1], s = 3, c = 'c')\n",
    "plt.grid(True)\n",
    "plt.xlabel('Sepal Length', fontsize=14)\n",
    "plt.ylabel('Petal Length', fontsize=14)\n",
    "plt.gca().legend(('Iris-setosa','Iris-versicolor'))\n",
    "plt.title('Iris Data')\n"
   ]
  },
  {
   "cell_type": "code",
   "execution_count": 10,
   "metadata": {},
   "outputs": [
    {
     "name": "stdout",
     "output_type": "stream",
     "text": [
      "(50, 4) (50,) (50, 4) (50,)\n"
     ]
    }
   ],
   "source": [
    "YY = np.concatenate((Y3, Y4))\n",
    "NumDataPerClass = 50\n",
    "# Setting up Target Labels of +1 and -1\n",
    "labelPos = np.ones(NumDataPerClass)\n",
    "labelNeg = -1.0*np.ones(NumDataPerClass) \n",
    "f = np.concatenate((labelPos, labelNeg))\n",
    "\n",
    "# Generate random indices and order the data\n",
    "rIndex = np.random.permutation(2*NumDataPerClass) \n",
    "Yr = YY[rIndex,]\n",
    "fr = f[rIndex]\n",
    "\n",
    "# Training and test sets (half half)\n",
    "Y_train = Yr[0:NumDataPerClass]\n",
    "f_train = fr[0:NumDataPerClass]\n",
    "Y_test = Yr[NumDataPerClass:2*NumDataPerClass] \n",
    "f_test = fr[NumDataPerClass:2*NumDataPerClass] \n",
    "print(Y_train.shape, f_train.shape, Y_test.shape, f_test.shape)\n",
    "Ntrain = NumDataPerClass; \n",
    "Ntest = NumDataPerClass;\n"
   ]
  },
  {
   "cell_type": "code",
   "execution_count": 14,
   "metadata": {},
   "outputs": [
    {
     "name": "stdout",
     "output_type": "stream",
     "text": [
      "(50, 5) (50,) (50, 5) (50,)\n"
     ]
    }
   ],
   "source": [
    "# New Modification\n",
    "o = np.ones((2*NumDataPerClass, 1)) \n",
    "YN = np.append(YY, o, axis=1)\n",
    "\n",
    "# Setting up Target Labels of +1 and -1\n",
    "labelPos = np.ones(NumDataPerClass)\n",
    "labelNeg = -1.0*np.ones(NumDataPerClass) \n",
    "f = np.concatenate((labelPos, labelNeg))\n",
    "\n",
    "# Generate random indices and order the data\n",
    "rIndex = np.random.permutation(2*NumDataPerClass) \n",
    "Yr = YN[rIndex,]\n",
    "fr = f[rIndex]\n",
    "\n",
    "# Training and test sets (half half)\n",
    "Y_train = Yr[0:NumDataPerClass]\n",
    "f_train = fr[0:NumDataPerClass]\n",
    "Y_test = Yr[NumDataPerClass:2*NumDataPerClass] \n",
    "f_test = fr[NumDataPerClass:2*NumDataPerClass] \n",
    "print(Y_train.shape, f_train.shape, Y_test.shape, f_test.shape)\n",
    "Ntrain = NumDataPerClass; \n",
    "Ntest = NumDataPerClass;"
   ]
  },
  {
   "cell_type": "code",
   "execution_count": 18,
   "metadata": {},
   "outputs": [
    {
     "name": "stdout",
     "output_type": "stream",
     "text": [
      "[ 0.07168898  0.88441038  0.14497629 -0.43956     0.32508783]\n",
      "Initial Percentage Correct:  44.0\n",
      "Percentage Correct After Training:  100.0 100.0\n"
     ]
    },
    {
     "data": {
      "text/plain": [
       "<matplotlib.legend.Legend at 0x246fd445908>"
      ]
     },
     "execution_count": 18,
     "metadata": {},
     "output_type": "execute_result"
    },
    {
     "data": {
      "image/png": "[encoded data removed]",
      "text/plain": [
       "<Figure size 432x288 with 1 Axes>"
      ]
     },
     "metadata": {
      "needs_background": "light"
     },
     "output_type": "display_data"
    }
   ],
   "source": [
    "# Itertive Error Correcting Learning\n",
    "# Random initialization of weights\n",
    "a = np.random.randn(5) # New Modification\n",
    "print(a)\n",
    "# What is the performance with the initial random weights?\n",
    "print('Initial Percentage Correct: ', PercentCorrect(Y_train, f_train, a))\n",
    "# Number of iterations and Learning rate\n",
    "MaxIter = 50\n",
    "alpha = 0.01\n",
    "# Space for plots\n",
    "P_train = np.zeros(MaxIter) \n",
    "P_test = np.zeros(MaxIter)\n",
    "# Main Loop\n",
    "for iter in range(MaxIter):\n",
    "    # Select a data item at random\n",
    "    r = np.floor(np.random.rand()*Ntrain).astype(int)\n",
    "    y = Y_train[r,:] #random row from y_train\n",
    "    # If it is misclassified, update weights\n",
    "    if (f_train[r] * np.dot(y, a) < 0): \n",
    "        a += alpha * f_train[r] * y\n",
    "    # Evaluate training and test performances for plotting\n",
    "    P_train[iter] = PercentCorrect(Y_train, f_train, a); \n",
    "    P_test[iter] = PercentCorrect(Y_test, f_test, a);\n",
    "print('Percentage Correct After Training: ', PercentCorrect(Y_train,f_train, a), PercentCorrect(Y_test,f_test, a))\n",
    "\n",
    "# Plotting the New Learning Curves\n",
    "plt.plot(range(MaxIter), P_train, 'b', range(MaxIter), P_test, 'r') \n",
    "plt.grid(True)\n",
    "plt.gca().legend(('Training Set','Test Set'))"
   ]
  },
  {
   "cell_type": "code",
   "execution_count": null,
   "metadata": {},
   "outputs": [],
   "source": []
  },
  {
   "cell_type": "code",
   "execution_count": null,
   "metadata": {},
   "outputs": [],
   "source": []
  }
 ],
 "metadata": {
  "kernelspec": {
   "display_name": "Python 3",
   "language": "python",
   "name": "python3"
  },
  "language_info": {
   "codemirror_mode": {
    "name": "ipython",
    "version": 3
   },
   "file_extension": ".py",
   "mimetype": "text/x-python",
   "name": "python",
   "nbconvert_exporter": "python",
   "pygments_lexer": "ipython3",
   "version": "3.7.3"
  }
 },
 "nbformat": 4,
 "nbformat_minor": 2
}
